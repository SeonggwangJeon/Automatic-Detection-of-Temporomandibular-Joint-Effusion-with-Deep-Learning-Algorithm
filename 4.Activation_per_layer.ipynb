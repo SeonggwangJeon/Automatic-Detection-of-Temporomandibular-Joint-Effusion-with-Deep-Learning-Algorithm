{
 "cells": [
  {
   "cell_type": "code",
   "execution_count": 1,
   "id": "b1536cbd",
   "metadata": {},
   "outputs": [
    {
     "name": "stderr",
     "output_type": "stream",
     "text": [
      "\n",
      "KeyboardInterrupt\n",
      "\n"
     ]
    }
   ],
   "source": [
    "import numpy as np\n",
    "import os\n",
    "import zipfile\n",
    "import pandas as pd\n",
    "import shutil\n",
    "import matplotlib.pyplot as plt\n",
    "import torch\n",
    "\n",
    "from Mymodule.ModelHandler import *\n",
    "from Mymodule.Utils import *\n",
    "from Mymodule.GradCam import *\n",
    "from Mymodule.BatchHandler import *\n",
    "from torchvision import models"
   ]
  },
  {
   "cell_type": "code",
   "execution_count": null,
   "id": "2575b570",
   "metadata": {},
   "outputs": [],
   "source": [
    "device = torch.device('cuda:0')\n",
    "model_name = 'vgg16'"
   ]
  },
  {
   "cell_type": "code",
   "execution_count": null,
   "id": "45ee0261",
   "metadata": {},
   "outputs": [],
   "source": [
    "def explort_imgs(images, parent_dir,candidates):\n",
    "    for i,image in enumerate(images):\n",
    "        file_path = os.path.join(parent_dir, f'{candidates[i]}')\n",
    "        print(file_path)\n",
    "        cv2.imwrite(file_path, image)\n",
    "    print('exported..done')\n",
    "    \n",
    "def calculate_zero_ratios(img):\n",
    "    w, h = img.shape\n",
    "    zeros = 0\n",
    "    for i in range(w):\n",
    "        for j in range(w):\n",
    "            if img[i, j] <= 0:\n",
    "                zeros += 1\n",
    "    return zeros / (w*h)\n",
    "\n",
    "class LayerActivation():\n",
    "    features = None    \n",
    "    def __init__(self, model, layer_num):\n",
    "        self.hook = model.base.features[layer_num].register_forward_hook(self.hook_fn)\n",
    "    def hook_fn(self, module, input, output):\n",
    "        self.features = output.cpu().data.numpy()\n",
    "    def remove(self):\n",
    "        self.hook.remove()\n",
    "\n",
    "        \n",
    "activation = {}\n",
    "\n",
    "def get_activation(name):\n",
    "    def hook(model, input, output):\n",
    "        activation[name] = output.detach()\n",
    "    return hook\n"
   ]
  },
  {
   "cell_type": "code",
   "execution_count": null,
   "id": "bb1ef85d",
   "metadata": {},
   "outputs": [],
   "source": [
    "root = './Dataset/ForGradCam/'\n",
    "candidates = os.listdir(root)[1:]\n",
    "candidates"
   ]
  },
  {
   "cell_type": "code",
   "execution_count": null,
   "id": "bb2748d5",
   "metadata": {
    "scrolled": true
   },
   "outputs": [],
   "source": [
    "images = []\n",
    "for i, candidate in enumerate(candidates):\n",
    "    if candidate[-3:] != 'png': continue\n",
    "        \n",
    "    image_path = os.path.join(root,candidate)\n",
    "    \n",
    "    if i <= 4 : \n",
    "        x_start = 200\n",
    "        y_start = 200\n",
    "        x_end = x_start + 300\n",
    "        y_end = y_start + 400\n",
    "    else : \n",
    "        x_start = 100\n",
    "        y_start = 200\n",
    "        x_end = x_start + 300\n",
    "        y_end = y_start + 400\n",
    "\n",
    "    \n",
    "    image = cv2.imread(image_path)[x_start:x_end, y_start:y_end]\n",
    "    print(candidate)\n",
    "    plt.imshow(image)\n",
    "    plt.show()\n",
    "    \n",
    "    image = cv2.resize(image,(140,140))\n",
    "    images.append(image)\n",
    "images = np.array(images).copy()\n",
    "test_y = np.zeros([7,1])\n",
    "print(images.shape)\n",
    "print(test_y.shape)"
   ]
  },
  {
   "cell_type": "code",
   "execution_count": null,
   "id": "43608382",
   "metadata": {},
   "outputs": [],
   "source": [
    "test_loader = GetLoader([], images, test_y, batch=1, test=True)      "
   ]
  },
  {
   "cell_type": "markdown",
   "id": "1ac2fc8d",
   "metadata": {},
   "source": [
    "# Show activation map of layers"
   ]
  },
  {
   "cell_type": "code",
   "execution_count": null,
   "id": "69e2c6a9",
   "metadata": {},
   "outputs": [],
   "source": [
    "def hook_fn(module, input, output):\n",
    "    activation_maps.append(output.clone())\n",
    "\n",
    "# ReLU 레이어 후크 등록\n",
    "def register_hooks(model):\n",
    "    activation_maps.clear()\n",
    "    for module in model.modules():\n",
    "        if isinstance(module, nn.ReLU):\n",
    "            module.register_forward_hook(hook_fn)\n",
    "\n",
    "def plot_activation_maps(name,activation_maps):\n",
    "    fig, axes = plt.subplots(1, len(activation_maps), figsize=(32,32))\n",
    "    for i, activation_map in enumerate(activation_maps):\n",
    "        # 채널 평균을 계산하여 3차원으로 축소\n",
    "        mean_activation_map = activation_map.mean(dim=1, keepdim=True)\n",
    "        # 이미지 데이터의 형태를 (높이, 너비, 채널)로 변경\n",
    "        mean_activation_map = mean_activation_map.squeeze().cpu().detach().numpy()\n",
    "        #.transpose(1, 2, 0)[:,...,1]\n",
    "    \n",
    "        # 이미지로 플로팅\n",
    "        axes[i].imshow(mean_activation_map)\n",
    "        axes[i].set_title(f'Activation Map {i+1}', size = 15)\n",
    "        axes[i].axis('off')\n",
    "    plt.tight_layout()\n",
    "    plt.savefig(f'./240216_layer_map/{name}')\n",
    "    plt.show()\n",
    "    \n",
    "def plot_activation_maps(name,activation_maps):\n",
    "    for i, activation_map in enumerate(activation_maps):\n",
    "        # 채널 평균을 계산하여 3차원으로 축소\n",
    "        mean_activation_map = activation_map.mean(dim=1, keepdim=True)\n",
    "        # 이미지 데이터의 형태를 (높이, 너비, 채널)로 변경\n",
    "        mean_activation_map = mean_activation_map.squeeze().cpu().detach().numpy()\n",
    "        #.transpose(1, 2, 0)[:,...,1]\n",
    "    \n",
    "        # 이미지로 플로팅\n",
    "        plt.figure(figsize = (7,7), facecolor = 'white')\n",
    "        plt.imshow(mean_activation_map)\n",
    "        plt.title(f'Activation Map {i+1}', size = 15)\n",
    "        plt.tight_layout()\n",
    "        print(name)\n",
    "        plt.savefig(f'./240216_layer_map/{name}_{i+1}.png')\n",
    "        plt.show()"
   ]
  },
  {
   "cell_type": "code",
   "execution_count": null,
   "id": "f3c9157f",
   "metadata": {},
   "outputs": [],
   "source": [
    "MRI = 'PD'\n",
    "train_strategy = 'finetuning'"
   ]
  },
  {
   "cell_type": "code",
   "execution_count": null,
   "id": "c66d05a8",
   "metadata": {
    "scrolled": true
   },
   "outputs": [],
   "source": [
    "# List to store activation maps\n",
    "for i,(data, label) in enumerate(test_loader):\n",
    "    activation_maps = []\n",
    "    data = data.to(device)\n",
    "    label = label.to(device)\n",
    "\n",
    "    MRI = candidates[i].split('_')[2][:2]\n",
    "    model_save_path = f'./Model_for_effusion/vgg16_{MRI}_{train_strategy}.pt'\n",
    "\n",
    "    model = get_model(model_name, device, pretrained=True)    \n",
    "    model.load_state_dict(torch.load(model_save_path))\n",
    "    model.eval()\n",
    "    model = model.to(device)\n",
    "    \n",
    "    register_hooks(model)\n",
    "\n",
    "    # 순방향 전달\n",
    "    output = model(data)\n",
    "    plot_activation_maps(candidates[i],activation_maps)"
   ]
  },
  {
   "cell_type": "code",
   "execution_count": null,
   "id": "6e68ec7b",
   "metadata": {},
   "outputs": [],
   "source": [
    "import zipfile\n",
    "import os\n",
    "\n",
    "def zip_folder(folder_path, output_path):\n",
    "    with zipfile.ZipFile(output_path, 'w', zipfile.ZIP_DEFLATED) as zipf:\n",
    "        for root, dirs, files in os.walk(folder_path):\n",
    "            for file in files:\n",
    "                file_path = os.path.join(root, file)\n",
    "                zipf.write(file_path, os.path.relpath(file_path, folder_path))\n",
    "\n",
    "# 압축할 폴더 경로\n",
    "folder_to_zip = './240216_layer_map/'\n",
    "# 출력될 압축 파일 경로\n",
    "output_zip_path = './240216_layer_figures.zip'\n",
    "\n",
    "# 함수 호출\n",
    "zip_folder(folder_to_zip, output_zip_path)"
   ]
  },
  {
   "cell_type": "code",
   "execution_count": null,
   "id": "ab38287a",
   "metadata": {},
   "outputs": [],
   "source": []
  }
 ],
 "metadata": {
  "kernelspec": {
   "display_name": "JSG_image",
   "language": "python",
   "name": "jsg_image"
  },
  "language_info": {
   "codemirror_mode": {
    "name": "ipython",
    "version": 3
   },
   "file_extension": ".py",
   "mimetype": "text/x-python",
   "name": "python",
   "nbconvert_exporter": "python",
   "pygments_lexer": "ipython3",
   "version": "3.10.9"
  }
 },
 "nbformat": 4,
 "nbformat_minor": 5
}
