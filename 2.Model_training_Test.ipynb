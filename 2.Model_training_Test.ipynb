{
 "cells": [
  {
   "cell_type": "code",
   "execution_count": 28,
   "metadata": {},
   "outputs": [],
   "source": [
    "import numpy as np\n",
    "import cv2\n",
    "import os\n",
    "import pandas as pd\n",
    "from collections import Counter as cnt\n",
    "import matplotlib.pyplot as plt\n",
    "import torch\n",
    "import csv\n",
    "from scipy.stats import chi2_contingency\n",
    "import pickle\n",
    "from scipy import stats\n",
    "\n",
    "#import module\n",
    "from Mymodule.ModelHandler import *\n",
    "from Mymodule.Utils import *\n",
    "from Mymodule.GradCam import *\n",
    "from Mymodule.BatchHandler import *\n",
    "from collections import Counter as cnt\n",
    "from torchvision import transforms\n",
    "from keras import Sequential\n",
    "from torch import nn\n",
    "\n",
    "from sklearn.model_selection import train_test_split\n",
    "from sklearn.metrics import roc_auc_score, roc_curve, accuracy_score, confusion_matrix\n",
    "from torch import optim\n",
    "\n",
    "import matplotlib.pyplot as plt\n",
    "from sklearn.preprocessing import StandardScaler\n",
    "from sklearn.linear_model import LogisticRegression"
   ]
  },
  {
   "cell_type": "markdown",
   "metadata": {},
   "source": [
    "## Prepare Dataset"
   ]
  },
  {
   "cell_type": "code",
   "execution_count": 32,
   "metadata": {},
   "outputs": [
    {
     "name": "stdout",
     "output_type": "stream",
     "text": [
      "columns of clinic_data :  Index(['ID', 'SEX', 'AGE', 'VAS_UPTO10', 'TMJ_PAIN', 'Direction', 'ONSET',\n",
      "       'TMJ_noise'],\n",
      "      dtype='object')\n",
      "columns of expert_diagnosis :  Index(['ID', '이름', '성별 ', '나이', 'Lt. effusion (0-없음, 1-있음)',\n",
      "       'Rt. (0-없음, 1-있음)', 'Lt. effusion (0-없음, 1-있음): 영상의학과 전문의 ',\n",
      "       'Rt. (0-없음, 1-있음).1'],\n",
      "      dtype='object')\n"
     ]
    }
   ],
   "source": [
    "image_root = {}\n",
    "image_root['train'] = f'./Dataset/Train_image/'\n",
    "image_root['test'] = f'./Dataset/Test_image/'\n",
    "\n",
    "clinic_df_path = './Dataset/Excel/230608_clinic_datas.xlsx'\n",
    "expert_df_path = './Dataset/Excel/230608_expert_diagnosis.xlsx'\n",
    "\n",
    "clinic_df = pd.read_excel(clinic_df_path).dropna()\n",
    "clinic_df.loc[clinic_df[\"SEX\"] == \"M\", \"SEX\"] = 1\n",
    "clinic_df.loc[clinic_df[\"SEX\"] == \"F\", \"SEX\"] = 0\n",
    "clinic_df.loc[clinic_df[\"SEX\"] == '  F', \"SEX\"] = 0\n",
    "expert_df = pd.read_excel(expert_df_path).drop(columns = ('Unnamed: 8')).dropna()\n",
    "\n",
    "print(\"columns of clinic_data : \", clinic_df.columns)\n",
    "print(\"columns of expert_diagnosis : \", expert_df.columns)"
   ]
  },
  {
   "cell_type": "code",
   "execution_count": 34,
   "metadata": {},
   "outputs": [
    {
     "name": "stdout",
     "output_type": "stream",
     "text": [
      "dict_keys(['PD', 'T2'])\n"
     ]
    }
   ],
   "source": [
    "complete_data_path = \"./Dataset/complete_dataset.pickle\"\n",
    "\n",
    "x_start = 45\n",
    "y_start = 100\n",
    "x_end = x_start + 300\n",
    "y_end = y_start + 400\n",
    "\n",
    "#for making dataset...\n",
    "MRIs = ['PD','T2']\n",
    "stages = ['train', 'val', 'test']\n",
    "categorys = ['image','clinic', 'pt_no', 'label','expert']\n",
    "if not os.path.isfile(complete_data_path):\n",
    "    data = {}\n",
    "    for MRI in MRIs:\n",
    "        data[MRI] = {}\n",
    "        for stage in stages: \n",
    "            data[MRI][stage] = {}\n",
    "            for category in categorys:\n",
    "                data[MRI][stage][category] = []\n",
    "\n",
    "            if stage == 'val' : continue    \n",
    "\n",
    "            mri_image_root = os.path.join(image_root[stage],MRI)\n",
    "\n",
    "            for image in os.listdir(mri_image_root):\n",
    "                if not image[-3:] == 'png': continue\n",
    "\n",
    "                pt_no,side,age,sex,label = image.split('_') \n",
    "                pt_no,age,label = int(pt_no), int(age), int(label[0])\n",
    "                if sex == 'M' : sex = 1\n",
    "                elif sex == 'F' : sex = 0\n",
    "                else : sex = np.nan\n",
    "                \n",
    "                clinic_data = clinic_df[clinic_df['ID']==pt_no].values\n",
    "\n",
    "                image_path = os.path.join(mri_image_root,image)\n",
    "                if stage == 'train' : reshaped_image = cv2.resize(cv2.imread(image_path, 0)[x_start:x_end, y_start:y_end],(140,140))\n",
    "                if stage == 'test'  : reshaped_image = cv2.resize(cv2.imread(image_path, 0),(140,140))\n",
    "                reshaped_image = np.dstack((reshaped_image,reshaped_image,reshaped_image))\n",
    "\n",
    "                data[MRI][stage]['image'].append(reshaped_image)\n",
    "                if clinic_data.shape[0]:\n",
    "                    clinic_data[0][1], clinic_data[0][2] = sex, age\n",
    "                    data[MRI][stage]['clinic'].append(np.array(clinic_data[0][1:],dtype = 'float16'))\n",
    "                else : data[MRI][stage]['clinic'].append([sex, age, np.nan, np.nan, np.nan,np.nan,np.nan])        \n",
    "                data[MRI][stage]['pt_no'].append(pt_no)\n",
    "                data[MRI][stage]['label'].append(label)\n",
    "                \n",
    "                if stage == 'test':\n",
    "                    expert = expert_df[expert_df['ID'] == pt_no]\n",
    "                    if   side == 'L' : data[MRI][stage]['expert'].append(expert['Lt. effusion (0-없음, 1-있음): 영상의학과 전문의 '].values[0]) \n",
    "                    elif side == 'R' : data[MRI][stage]['expert'].append(expert['Rt. (0-없음, 1-있음).1'].values[0]) \n",
    "    \n",
    "\n",
    "            data[MRI][stage]['clinic'], data[MRI][stage]['image'], data[MRI][stage]['label'], data[MRI][stage]['expert'] = np.array(data[MRI][stage]['clinic']), np.array(data[MRI][stage]['image']), np.array(data[MRI][stage]['label']).reshape(-1,1), np.array(data[MRI][stage]['expert']).reshape(-1,1)\n",
    "\n",
    "        data[MRI]['train']['pt_no'],data[MRI]['val']['pt_no'], _, _     = train_test_split(data[MRI]['train']['pt_no'],data[MRI]['train']['label'], test_size=0.2, random_state=32, stratify=data[MRI]['train']['label'])\n",
    "        data[MRI]['train']['clinic'],data[MRI]['val']['clinic'], _, _   = train_test_split(data[MRI]['train']['clinic'],data[MRI]['train']['label'], test_size=0.2, random_state=32, stratify=data[MRI]['train']['label'])\n",
    "        data[MRI]['train']['image'],data[MRI]['val']['image'],data[MRI]['train']['label'],data[MRI]['val']['label'] = train_test_split(data[MRI]['train']['image'], data[MRI]['train']['label'], test_size=0.2, random_state=32, stratify=data[MRI]['train']['label'])    \n",
    "\n",
    "    #save data\n",
    "    with open(complete_data_path,'wb') as fw:\n",
    "        pickle.dump(data, fw)\n",
    "\n",
    "elif os.path.isfile(complete_data_path):\n",
    "    # load data\n",
    "    with open(complete_data_path, 'rb') as fr:\n",
    "        data = pickle.load(fr)\n",
    "\n",
    "# show data\n",
    "print(data.keys())"
   ]
  },
  {
   "cell_type": "markdown",
   "metadata": {},
   "source": [
    "### Model preparation"
   ]
  },
  {
   "cell_type": "code",
   "execution_count": 35,
   "metadata": {},
   "outputs": [],
   "source": [
    "device = torch.device('cuda:0')\n",
    "\n",
    "epochs = 20\n",
    "milestone = [epochs-10, epochs-6]\n",
    "min_epoch = 6\n",
    "batch = 32\n",
    "lr = 1e-4\n",
    "\n",
    "model_name = 'vgg16'\n",
    "#model_name = 'resnet50'"
   ]
  },
  {
   "cell_type": "markdown",
   "metadata": {},
   "source": [
    "### Training"
   ]
  },
  {
   "cell_type": "code",
   "execution_count": 36,
   "metadata": {
    "scrolled": true
   },
   "outputs": [
    {
     "name": "stdout",
     "output_type": "stream",
     "text": [
      "vgg16_PD_finetuning already exists\n",
      "vgg16_PD_fromscratch already exists\n",
      "vgg16_PD_freeze already exists\n",
      "vgg16_T2_finetuning already exists\n",
      "vgg16_T2_fromscratch already exists\n",
      "vgg16_T2_freeze already exists\n"
     ]
    }
   ],
   "source": [
    "#for transformation\n",
    "#... clinic - learning_strategy - mri - group\n",
    "#... first... without clinic.... to make model...\n",
    "train_strategies = ['finetuning','fromscratch','freeze']\n",
    "\n",
    "for MRI in MRIs:\n",
    "    for train_strategy in train_strategies:\n",
    "        model_save_path = f'./Model_for_effusion/{model_name}_{MRI}_{train_strategy}.pt'\n",
    "        \n",
    "        if not os.path.isfile(model_save_path):\n",
    "            train_x, val_x, test_x = data[MRI]['train']['image'], data[MRI]['val']['image'], data[MRI]['test']['image']\n",
    "            train_y, val_y, test_y  = data[MRI]['train']['label'], data[MRI]['val']['label'], data[MRI]['test']['label']\n",
    "\n",
    "            randrot, randvert, randaff = [-15,15], 0.15, [0.1, 1]\n",
    "            train_transform = [transforms.RandomRotation(randrot), transforms.RandomVerticalFlip(p=randvert), transforms.RandomAffine(0, translate=randaff)]\n",
    "            train_loader = GetLoader(train_transform, train_x, train_y, batch=batch, test=False)\n",
    "            val_loader = GetLoader([], val_x, val_y, batch=len(val_y), test=True)\n",
    "            test_loader = GetLoader([], test_x, test_y, batch=len(test_y), test=True)      \n",
    "\n",
    "            if train_strategy == 'finetuning'  : model = get_model(model_name, device, pretrained=True, freeze = False)\n",
    "            if train_strategy == 'fromscratch' : model = get_model(model_name, device, pretrained=False, freeze = False)\n",
    "            if train_strategy == 'freeze'      : model = get_model(model_name, device, pretrained=False, freeze = True)\n",
    "            optimizer = optim.Adam(model.parameters(), lr=lr)\n",
    "            scheduler = optim.lr_scheduler.MultiStepLR(optimizer, milestone)\n",
    "\n",
    "            history_t_loss, history_loss, history_auc, history_test_auc, history_train_auc = \\\n",
    "            train_convnet(model, device, train_loader, val_loader, test_loader, lr, epochs, model_save_path,\n",
    "            optimizer=optimizer, scheduler=scheduler, min_epoch=min_epoch, pos_weight=0, save_by='val_loss', out = True)\n",
    "\n",
    "            bestepoch = np.argmax(history_auc[min_epoch-1:]) + min_epoch\n",
    "            print(\"best epoch : \", bestepoch, \" train auc : \",format(history_train_auc[bestepoch-1],\".4f\"),  \" valid auc : \", format(history_auc[bestepoch-1],\".4f\"), \"test auc : \", format(history_test_auc[bestepoch-1],\".4f\"))\n",
    "            \n",
    "        else : print(f'{model_name}_{MRI}_{train_strategy} already exists')"
   ]
  },
  {
   "cell_type": "markdown",
   "metadata": {},
   "source": [
    "### Getting Probability from VGG16 Model"
   ]
  },
  {
   "cell_type": "code",
   "execution_count": 37,
   "metadata": {},
   "outputs": [
    {
     "data": {
      "text/plain": [
       "dict_keys(['PD', 'T2'])"
      ]
     },
     "execution_count": 37,
     "metadata": {},
     "output_type": "execute_result"
    }
   ],
   "source": [
    "vgg16proba_with_clinicdata_path = './Dataset/vgg16proba_with_clinicdata'\n",
    "#vgg16proba_with_clinicdata_path = './Dataset/resnet50proba_with_clinicdata'\n",
    "\n",
    "if not os.path.isfile(vgg16proba_with_clinicdata_path):\n",
    "    vgg16proba_with_clinicdata = {}\n",
    "\n",
    "    sig = torch.nn.Sigmoid()\n",
    "    for MRI in MRIs:\n",
    "        vgg16proba_with_clinicdata[MRI] = {}\n",
    "        for train_strategy in train_strategies:\n",
    "            vgg16proba_with_clinicdata[MRI][train_strategy] = {}\n",
    "            print(f'MRI_{MRI}, train_strategy_{train_strategy}')\n",
    "            model_save_path = f'./Model_for_effusion/{model_name}_{MRI}_{train_strategy}.pt'\n",
    "\n",
    "            model = get_model(model_name, device, pretrained=True)    \n",
    "            model.load_state_dict(torch.load(model_save_path))\n",
    "            model.eval()\n",
    "\n",
    "            train_x,      val_x,      test_x      = data[MRI]['train']['image'] , data[MRI]['val']['image'] , data[MRI]['test']['image']\n",
    "            train_clinic, val_clinic, test_clinic = data[MRI]['train']['clinic'], data[MRI]['val']['clinic'], data[MRI]['test']['clinic']\n",
    "            train_y,      val_y,      test_y      = data[MRI]['train']['label'] , data[MRI]['val']['label'] , data[MRI]['test']['label']\n",
    "\n",
    "            randrot, randvert, randaff = [-15,15], 0.15, [0.1, 1]\n",
    "            train_transform = [transforms.RandomRotation(randrot), transforms.RandomVerticalFlip(p=randvert), transforms.RandomAffine(0, translate=randaff)]\n",
    "\n",
    "            train_loader = GetLoader(train_transform, train_x, train_y, batch=batch, test=True)\n",
    "            val_loader = GetLoader([], val_x, val_y, batch=len(val_y), test=True)\n",
    "            test_loader = GetLoader([], test_x, test_y, batch=len(test_y), test=True)      \n",
    "\n",
    "            # for getting probabilities from trained vgg16 models.\n",
    "            with torch.no_grad():\n",
    "                for stage in stages:\n",
    "                    vgg16proba_with_clinicdata[MRI][train_strategy][stage] = {}\n",
    "                    if stage == 'train' : loader = train_loader\n",
    "                    if stage == 'val'   : loader = val_loader\n",
    "                    if stage == 'test'  : loader = test_loader\n",
    "                    check = 0\n",
    "                    for image, label in loader:\n",
    "                        image, label = image.to(device), label.to(device)\n",
    "                        logit = model(image)\n",
    "                        proba, label = sig(logit), label.float()\n",
    "                        if check ==0: probas, logits, labels = proba, logit,label\n",
    "                        if check ==1: probas, logits, labels = torch.cat([probas, proba]), torch.cat([logits, logit]), torch.cat([labels, label])\n",
    "                        check = 1\n",
    "                    vgg16proba_with_clinicdata[MRI][train_strategy][stage]['proba'], vgg16proba_with_clinicdata[MRI][train_strategy][stage]['logit'], vgg16proba_with_clinicdata[MRI][train_strategy][stage]['label'] = probas.cpu().numpy(), logits.cpu().numpy(), labels.cpu().numpy()                \n",
    "                    vgg16proba_with_clinicdata[MRI][train_strategy][stage]['clinic'] = data[MRI][stage]['clinic']\n",
    "                    vgg16proba_with_clinicdata[MRI][train_strategy][stage]['expert'] = data[MRI][stage]['expert']\n",
    "\n",
    "    #save data\n",
    "    with open(vgg16proba_with_clinicdata_path,'wb') as fw:\n",
    "        pickle.dump(vgg16proba_with_clinicdata, fw)\n",
    "\n",
    "elif os.path.isfile(vgg16proba_with_clinicdata_path):\n",
    "    with open(vgg16proba_with_clinicdata_path, 'rb') as fr:\n",
    "        vgg16proba_with_clinicdata = pickle.load(fr)\n",
    "        \n",
    "vgg16proba_with_clinicdata.keys()"
   ]
  },
  {
   "cell_type": "markdown",
   "metadata": {},
   "source": [
    "### Training 3 Layer shallow deep learning model"
   ]
  },
  {
   "cell_type": "code",
   "execution_count": 38,
   "metadata": {
    "scrolled": false
   },
   "outputs": [
    {
     "name": "stdout",
     "output_type": "stream",
     "text": [
      "shallow_three_layer_PD already exists\n",
      "shallow_three_layer_T2 already exists\n"
     ]
    }
   ],
   "source": [
    "# Is it trustable...??....\n",
    "# need to check logistic regression....?\n",
    "model_name = 'shallow_three_layer'\n",
    "#model_name = 'shallow_three_layer_resnet50'\n",
    "\n",
    "epochs = 100\n",
    "milestone = [epochs-10, epochs-6]\n",
    "min_epoch = 5\n",
    "batch = 512\n",
    "lr = 1\n",
    "scalar = StandardScaler().fit_transform\n",
    "\n",
    "for MRI in MRIs:\n",
    "    model_save_path = f'./Model_for_effusion/{model_name}_{MRI}.pt'\n",
    "    if not os.path.isfile(model_save_path):\n",
    "        train_proba, val_proba, test_proba    = vgg16proba_with_clinicdata[MRI]['finetuning']['train']['proba'], vgg16proba_with_clinicdata[MRI]['finetuning']['val']['proba'], vgg16proba_with_clinicdata[MRI]['finetuning']['test']['proba']\n",
    "        train_clinic, val_clinic, test_clinic = vgg16proba_with_clinicdata[MRI]['finetuning']['train']['clinic'], vgg16proba_with_clinicdata[MRI]['finetuning']['val']['clinic'], vgg16proba_with_clinicdata[MRI]['finetuning']['test']['clinic']\n",
    "        train_x, val_x, test_x = np.concatenate([train_proba, train_clinic],axis = -1), np.concatenate([val_proba, val_clinic],axis = -1), np.concatenate([test_proba, test_clinic],axis = -1)\n",
    "        train_y, val_y, test_y = vgg16proba_with_clinicdata[MRI]['finetuning']['train']['label'], vgg16proba_with_clinicdata[MRI]['finetuning']['val']['label'], vgg16proba_with_clinicdata[MRI]['finetuning']['test']['label']\n",
    "        temp_train_x, temp_val_x, temp_test_x = [], [], []\n",
    "        temp_train_y, temp_val_y, temp_test_y = [], [], []\n",
    "        for i in range(len(train_x)):\n",
    "            if not np.isnan(train_x[i]).any() : \n",
    "                temp_train_x.append(train_x[i])\n",
    "                temp_train_y.append(train_y[i])\n",
    "        for i in range(len(val_x)):\n",
    "            if not np.isnan(val_x[i]).any() : \n",
    "                temp_val_x.append(val_x[i])\n",
    "                temp_val_y.append(val_y[i])\n",
    "        for i in range(len(test_x)):\n",
    "            if not np.isnan(test_x[i]).any() : \n",
    "                temp_test_x.append(test_x[i])\n",
    "                temp_test_y.append(test_y[i])\n",
    "        train_x, val_x, test_x  = scalar(np.array(temp_train_x)), scalar(np.array(temp_val_x)), scalar(np.array(temp_test_x))\n",
    "        train_y, val_y, test_y  = np.array(temp_train_y), np.array(temp_val_y), np.array(temp_test_y)\n",
    "\n",
    "        train_loader = GetLoader_for_clinic(train_x, train_y, batch=batch, test=False)\n",
    "        val_loader   = GetLoader_for_clinic(val_x, val_y, batch=len(val_y), test=True)\n",
    "        test_loader  = GetLoader_for_clinic(test_x, test_y, batch=len(test_y), test=True)      \n",
    "\n",
    "        model = get_model(model_name, device)\n",
    "        optimizer = optim.Adam(model.parameters(), lr=lr)\n",
    "        scheduler = optim.lr_scheduler.MultiStepLR(optimizer, milestone)\n",
    "\n",
    "        history_t_loss, history_loss, history_auc, history_test_auc, history_train_auc = \\\n",
    "        train_convnet(model, device, train_loader, val_loader, test_loader, lr, epochs, model_save_path,\n",
    "        optimizer=optimizer, scheduler=scheduler, min_epoch=min_epoch, pos_weight=0, save_by='val_loss', out = False)\n",
    "\n",
    "        bestepoch = np.argmax(history_auc[min_epoch-1:]) + min_epoch\n",
    "        print(\"best epoch : \", bestepoch, \" train auc : \",format(history_train_auc[bestepoch-1],\".4f\"),  \" valid auc : \", format(history_auc[bestepoch-1],\".4f\"), \"test auc : \", format(history_test_auc[bestepoch-1],\".4f\"))\n",
    "\n",
    "    else : print(f'{model_name}_{MRI} already exists')"
   ]
  },
  {
   "cell_type": "markdown",
   "metadata": {},
   "source": [
    "### Getting probability from Shallow Three Layer model"
   ]
  },
  {
   "cell_type": "code",
   "execution_count": 39,
   "metadata": {},
   "outputs": [
    {
     "data": {
      "text/plain": [
       "dict_keys(['PD', 'T2'])"
      ]
     },
     "execution_count": 39,
     "metadata": {},
     "output_type": "execute_result"
    }
   ],
   "source": [
    "STLproba_with_clinicdata_path = './Dataset/STLproba_with_clinicdata'\n",
    "model_name = 'shallow_three_layer'\n",
    "\n",
    "#STLproba_with_clinicdata_path = './Dataset/STLproba_with_clinicdata_resnet50'\n",
    "#model_name = 'shallow_three_layer_resnet50'\n",
    "\n",
    "\n",
    "if not os.path.isfile(STLproba_with_clinicdata_path):\n",
    "    STLproba_with_clinicdata = {}\n",
    "    sig = torch.nn.Sigmoid()\n",
    "    \n",
    "    for MRI in MRIs:\n",
    "        STLproba_with_clinicdata[MRI] = {}\n",
    "        model_save_path = f'./Model_for_effusion/{model_name}_{MRI}.pt'\n",
    "        model = get_model(model_name, device, pretrained=True)    \n",
    "        model.load_state_dict(torch.load(model_save_path))\n",
    "        model.eval()\n",
    "\n",
    "        train_proba, val_proba, test_proba    = vgg16proba_with_clinicdata[MRI]['finetuning']['train']['proba'], vgg16proba_with_clinicdata[MRI]['finetuning']['val']['proba'], vgg16proba_with_clinicdata[MRI]['finetuning']['test']['proba']\n",
    "        train_clinic, val_clinic, test_clinic = vgg16proba_with_clinicdata[MRI]['finetuning']['train']['clinic'], vgg16proba_with_clinicdata[MRI]['finetuning']['val']['clinic'], vgg16proba_with_clinicdata[MRI]['finetuning']['test']['clinic']\n",
    "        train_x, val_x, test_x = np.concatenate([train_proba, train_clinic],axis = -1), np.concatenate([val_proba, val_clinic],axis = -1), np.concatenate([test_proba, test_clinic],axis = -1)\n",
    "        train_y, val_y, test_y = vgg16proba_with_clinicdata[MRI]['finetuning']['train']['label'], vgg16proba_with_clinicdata[MRI]['finetuning']['val']['label'], vgg16proba_with_clinicdata[MRI]['finetuning']['test']['label']\n",
    "        temp_train_x, temp_val_x, temp_test_x = [], [], []\n",
    "        temp_train_y, temp_val_y, temp_test_y = [], [], []\n",
    "        \n",
    "        for i in range(len(train_x)):\n",
    "            if not np.isnan(train_x[i]).any() : \n",
    "                temp_train_x.append(train_x[i])\n",
    "                temp_train_y.append(train_y[i])\n",
    "        for i in range(len(val_x)):\n",
    "            if not np.isnan(val_x[i]).any() : \n",
    "                temp_val_x.append(val_x[i])\n",
    "                temp_val_y.append(val_y[i])\n",
    "        for i in range(len(test_x)):\n",
    "            if not np.isnan(test_x[i]).any() : \n",
    "                temp_test_x.append(test_x[i])\n",
    "                temp_test_y.append(test_y[i])\n",
    "        \n",
    "        for stage in stages: STLproba_with_clinicdata[MRI][stage] = {}\n",
    "        \n",
    "        STLproba_with_clinicdata[MRI]['train']['clinic'], STLproba_with_clinicdata[MRI]['val']['clinic'], STLproba_with_clinicdata[MRI]['test']['clinic'] = np.array(temp_train_x)[:,1:], np.array(temp_val_x)[:,1:], np.array(temp_test_x)[:,1:]\n",
    "        train_x, val_x, test_x  = scalar(np.array(temp_train_x, dtype ='float32')), scalar(np.array(temp_val_x, dtype ='float32')), scalar(np.array(temp_test_x, dtype ='float32'))\n",
    "        train_y, val_y, test_y  = np.array(temp_train_y), np.array(temp_val_y), np.array(temp_test_y)\n",
    "\n",
    "        train_loader = GetLoader_for_clinic(train_x, train_y, batch=batch, test=True)\n",
    "        val_loader   = GetLoader_for_clinic(val_x, val_y, batch=len(val_y), test=True)\n",
    "        test_loader  = GetLoader_for_clinic(test_x, test_y, batch=len(test_y), test=True)      \n",
    "\n",
    "        # for getting probabilities from trained vgg16 models.\n",
    "        with torch.no_grad():\n",
    "            for stage in stages:\n",
    "                if stage == 'train' : loader = train_loader\n",
    "                if stage == 'val'   : loader = val_loader\n",
    "                if stage == 'test'  : loader = test_loader\n",
    "                check = 0\n",
    "                for feature, label in loader:\n",
    "                    feature, label = feature.to(device), label.to(device)\n",
    "                    logit = model(feature)\n",
    "                    proba, label = sig(logit), label.float()\n",
    "                    if check ==0: probas, logits, labels = proba, logit,label\n",
    "                    if check ==1: probas, logits, labels = torch.cat([probas, proba]), torch.cat([logits, logit]), torch.cat([labels, label])\n",
    "                    check = 1\n",
    "                STLproba_with_clinicdata[MRI][stage]['proba'], STLproba_with_clinicdata[MRI][stage]['logit'], STLproba_with_clinicdata[MRI][stage]['label'] = probas.cpu().numpy(), logits.cpu().numpy(), labels.cpu().numpy()                \n",
    "                STLproba_with_clinicdata[MRI][stage]['expert'] = vgg16proba_with_clinicdata[MRI]['finetuning'][stage]['expert']\n",
    "                \n",
    "\n",
    "    #save data\n",
    "    with open(STLproba_with_clinicdata_path,'wb') as fw:\n",
    "        pickle.dump(STLproba_with_clinicdata, fw)\n",
    "\n",
    "elif os.path.isfile(STLproba_with_clinicdata_path):\n",
    "    with open(STLproba_with_clinicdata_path, 'rb') as fr:\n",
    "        STLproba_with_clinicdata = pickle.load(fr)\n",
    "        \n",
    "STLproba_with_clinicdata.keys()"
   ]
  },
  {
   "cell_type": "code",
   "execution_count": 40,
   "metadata": {},
   "outputs": [],
   "source": [
    "def get_filtered_result(clinic,proba,label,expert, filter_standard = 'sexage'):\n",
    "    temp_proba, temp_label, temp_clinic, temp_expert = [], [], [], []\n",
    "    for i in range(len(clinic)):\n",
    "        sex, age = clinic[i][0],clinic[i][1]\n",
    "        if (filter_standard == 'sexage' and not np.isnan(clinic[i][0:2]).any()) or (filter_standard == 'allclinic' and not np.isnan(clinic[i][:]).any()):\n",
    "            targeted = False\n",
    "            if group == 'AGE1'   and (age <= 20): targeted = True\n",
    "            if group == 'AGE2'   and (age >= 21 and age <= 40): targeted = True\n",
    "            if group == 'AGE3'   and (age >= 41 and age <= 60): targeted = True\n",
    "            if group == 'AGE4'   and (age >= 61): targeted = True\n",
    "            if group == 'FEMALE' and (sex == 0): targeted = True\n",
    "            if group == 'MALE'   and (sex == 1): targeted = True\n",
    "            if targeted == True:\n",
    "                temp_proba.append(proba[i])\n",
    "                temp_label.append(label[i])\n",
    "                temp_clinic.append(clinic[i])\n",
    "                temp_expert.append(expert[i])\n",
    "    proba = np.array(temp_proba)\n",
    "    label = np.array(temp_label)\n",
    "    clinic = np.array(temp_clinic)\n",
    "    expert = np.array(temp_expert)\n",
    "    return clinic, proba, label, expert"
   ]
  },
  {
   "cell_type": "markdown",
   "metadata": {},
   "source": [
    "### Assessment with figures"
   ]
  },
  {
   "cell_type": "code",
   "execution_count": 1,
   "metadata": {
    "scrolled": true
   },
   "outputs": [
    {
     "ename": "NameError",
     "evalue": "name 'MRIs' is not defined",
     "output_type": "error",
     "traceback": [
      "\u001b[0;31m---------------------------------------------------------------------------\u001b[0m",
      "\u001b[0;31mNameError\u001b[0m                                 Traceback (most recent call last)",
      "Cell \u001b[0;32mIn[1], line 8\u001b[0m\n\u001b[1;32m      5\u001b[0m \u001b[38;5;66;03m# for evaluating Vgg16... for 446 test set..\u001b[39;00m\n\u001b[1;32m      7\u001b[0m ACCs[model_name] \u001b[38;5;241m=\u001b[39m {}\n\u001b[0;32m----> 8\u001b[0m \u001b[38;5;28;01mfor\u001b[39;00m MRI \u001b[38;5;129;01min\u001b[39;00m \u001b[43mMRIs\u001b[49m:\n\u001b[1;32m      9\u001b[0m     ACCs[model_name][MRI] \u001b[38;5;241m=\u001b[39m {}\n\u001b[1;32m     10\u001b[0m     \u001b[38;5;28;01mfor\u001b[39;00m train_strategy \u001b[38;5;129;01min\u001b[39;00m train_strategies:\n",
      "\u001b[0;31mNameError\u001b[0m: name 'MRIs' is not defined"
     ]
    }
   ],
   "source": [
    "model_name = 'vgg16'\n",
    "#model_name = 'resnet50'\n",
    "\n",
    "ACCs = {}\n",
    "# for evaluating Vgg16... for 446 test set..\n",
    "\n",
    "ACCs[model_name] = {}\n",
    "for MRI in MRIs:\n",
    "    ACCs[model_name][MRI] = {}\n",
    "    for train_strategy in train_strategies:\n",
    "        ACCs[model_name][MRI][train_strategy] = {}\n",
    "        #if train_strategy == 'finetuning' : groups = ['ALL']#, 'AGE1','AGE2','AGE3', 'AGE4', 'FEMALE', 'MALE']\n",
    "        if 1 ==1 : groups = ['ALL']\n",
    "        #else : groups = [model_name]\n",
    "        for group in groups:\n",
    "            ACCs[model_name][MRI][train_strategy][group] = {}\n",
    "            # for evaluating vgg16... for 446 test set..\n",
    "            proba = vgg16proba_with_clinicdata[MRI][train_strategy]['test']['proba'][:,0]\n",
    "            label = vgg16proba_with_clinicdata[MRI][train_strategy]['test']['label'][:,0]\n",
    "            clinic = vgg16proba_with_clinicdata[MRI][train_strategy]['test']['clinic']\n",
    "            expert = vgg16proba_with_clinicdata[MRI][train_strategy]['test']['expert']\n",
    "            \n",
    "            if group != 'ALL':\n",
    "                clinic, proba, label, expert = get_filtered_result(clinic, proba, label, expert, filter_standard = 'sexage')\n",
    "                \n",
    "            save = True\n",
    "            auroc_save_path     = f'''./Figures/AUROC_{model_name}_{MRI}_{train_strategy}_{group}.png'''\n",
    "            confusion_save_path = f'''./Figures/CONFUSION_{model_name}_{MRI}_{train_strategy}_{group}.png'''\n",
    "\n",
    "            if train_strategy == 'finetuning' : \n",
    "                auroc_color = 'Blue'\n",
    "                confusion_color = plt.cm.Blues\n",
    "            if train_strategy == 'fromscratch': \n",
    "                auroc_color = 'Green'\n",
    "                confusion_color = plt.cm.Greens\n",
    "            if train_strategy == 'freeze':\n",
    "                auroc_color = 'Orange'\n",
    "                confusion_color = plt.cm.Oranges\n",
    "                \n",
    "            auroc, threshold, accuracy = plot_roc_curve(label, proba, '', size=(8,8), color = auroc_color, save = save, save_path = auroc_save_path)\n",
    "            ACCs[model_name][MRI][train_strategy][group]['proba'] = proba\n",
    "            ACCs[model_name][MRI][train_strategy][group]['clinic'] = clinic\n",
    "            ACCs[model_name][MRI][train_strategy][group]['label'] = label\n",
    "            ACCs[model_name][MRI][train_strategy][group]['acc'] = accuracy\n",
    "            ACCs[model_name][MRI][train_strategy][group]['n_pt'] = len(proba)"
   ]
  },
  {
   "cell_type": "code",
   "execution_count": null,
   "metadata": {},
   "outputs": [],
   "source": []
  }
 ],
 "metadata": {
  "kernelspec": {
   "display_name": "JSG_image",
   "language": "python",
   "name": "jsg_image"
  },
  "language_info": {
   "codemirror_mode": {
    "name": "ipython",
    "version": 3
   },
   "file_extension": ".py",
   "mimetype": "text/x-python",
   "name": "python",
   "nbconvert_exporter": "python",
   "pygments_lexer": "ipython3",
   "version": "3.10.9"
  }
 },
 "nbformat": 4,
 "nbformat_minor": 2
}
